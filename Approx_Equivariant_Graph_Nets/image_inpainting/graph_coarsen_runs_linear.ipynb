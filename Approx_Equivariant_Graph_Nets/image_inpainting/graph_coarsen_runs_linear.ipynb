{
 "cells": [
  {
   "cell_type": "code",
   "execution_count": 1,
   "metadata": {},
   "outputs": [
    {
     "data": {
      "text/plain": [
       "True"
      ]
     },
     "execution_count": 1,
     "metadata": {},
     "output_type": "execute_result"
    }
   ],
   "source": [
    "import torch\n",
    "import torch.nn as nn\n",
    "import torch.nn.functional as F\n",
    "import torch.optim as optim\n",
    "import torchvision\n",
    "from torchvision import datasets, transforms\n",
    "import torch_geometric\n",
    "from torch.utils.data import Subset, Dataset\n",
    "import matplotlib.pyplot as plt\n",
    "import matplotlib\n",
    "import numpy as np\n",
    "import networkx as nx\n",
    "import pickle\n",
    "from sklearn.model_selection import train_test_split\n",
    "import seaborn as sns\n",
    "import pandas as pd\n",
    "import math\n",
    "from einops import rearrange\n",
    "from models_coarsen.gnet_coarsening import Sn_coarsen_layer, Sn_coarsen_net\n",
    "from models_coarsen.gnet_coarsen_utils import get_clusters, get_cluster_idxs, \\\n",
    "                           get_masked_images, generate_grid_graph, \\\n",
    "                           prepare_data, run_exp\n",
    "# reproducibility\n",
    "np.random.seed(0)\n",
    "\n",
    "torch.cuda.is_available()\n"
   ]
  },
  {
   "cell_type": "markdown",
   "metadata": {},
   "source": [
    "## Set-up\n",
    "- x: image\n",
    "- y: rotated(image) + Gaussian_noise"
   ]
  },
  {
   "cell_type": "code",
   "execution_count": 2,
   "metadata": {},
   "outputs": [
    {
     "name": "stdout",
     "output_type": "stream",
     "text": [
      "training_size=100, test_size=1000\n"
     ]
    }
   ],
   "source": [
    "#Load MNIST\n",
    "MNIST_flag = False #True #False - FashionMNIST\n",
    "subset_flag = True\n",
    "N = 28\n",
    "\n",
    "input_size  = N*N  # images are 28x28 pixels\n",
    "output_size = 10      # there are 10 classes\n",
    "noise_flag = True\n",
    "\n",
    "if MNIST_flag:\n",
    "    transformations = transforms.Compose([\n",
    "                        transforms.Resize((N, N)),\n",
    "                        transforms.ToTensor(),\n",
    "                        transforms.Normalize((0.1307,), (0.3081,)) # transforms.Normalize((0.5, 0.5, 0.5), (0.5, 0.5, 0.5))\n",
    "                    ])  \n",
    "    trainset = torchvision.datasets.MNIST(root='./data', train=True, download=False,transform=transformations)\n",
    "    testset = torchvision.datasets.MNIST(root='./data', train=False, transform=transformations)\n",
    "\n",
    "else: #FashionMNIST\n",
    "    transformations = transforms.Compose([\n",
    "                        transforms.Resize((N, N)),\n",
    "                        transforms.ToTensor(),\n",
    "                        transforms.Normalize((0.5,), (0.5,))\n",
    "                    ])      \n",
    "    trainset = torchvision.datasets.FashionMNIST(root='./data', train=True, download=True,transform=transformations)\n",
    "    testset = torchvision.datasets.FashionMNIST(root='./data', train=False, transform=transformations)\n",
    "\n",
    "\n",
    "\n",
    "##TO-DO: subset\n",
    "if MNIST_flag:\n",
    "    train_idx, validation_idx = train_test_split(np.arange(len(trainset)),\n",
    "                                             train_size=100, #test_size=0.99,\n",
    "                                             random_state=999,\n",
    "                                             shuffle=True,\n",
    "                                             stratify=trainset.targets)\n",
    "else:\n",
    "    train_idx, validation_idx = train_test_split(np.arange(len(trainset)),\n",
    "                                             train_size=100, #600,\n",
    "                                             random_state=999,\n",
    "                                             shuffle=True,\n",
    "                                             stratify=trainset.targets)\n",
    "# Subset dataset for train and val\n",
    "train_subset = Subset(trainset, train_idx)\n",
    "validation_dataset = Subset(trainset, validation_idx) #NOT-USE\n",
    "\n",
    "\n",
    "if subset_flag:\n",
    "  train_loader = torch.utils.data.DataLoader(train_subset, batch_size=len(train_subset), shuffle=False)\n",
    "else:\n",
    "  train_loader = torch.utils.data.DataLoader(trainset, batch_size=128, shuffle=False)\n",
    "\n",
    "test_idx, test_rest_idx = train_test_split(np.arange(len(testset)),\n",
    "                                             test_size=0.9,\n",
    "                                             random_state=999,\n",
    "                                             shuffle=True,\n",
    "                                             stratify=testset.targets)  \n",
    "test_subset = Subset(testset, test_idx)\n",
    "test_loader = torch.utils.data.DataLoader(test_subset, batch_size=len(test_subset), shuffle=False)\n",
    "print(f\"training_size={len(train_subset)}, test_size={len(test_subset)}\")\n"
   ]
  },
  {
   "cell_type": "code",
   "execution_count": 3,
   "metadata": {},
   "outputs": [
    {
     "data": {
      "image/png": "[encoded data removed]",
      "text/plain": [
       "<Figure size 1600x600 with 10 Axes>"
      ]
     },
     "metadata": {},
     "output_type": "display_data"
    }
   ],
   "source": [
    "train_y, _ = next(iter(train_loader))\n",
    "train_x = get_masked_images(train_y, mask_size=14 if MNIST_flag else 18)\n",
    "plt.figure(figsize=(16, 6))\n",
    "for i in range(5):\n",
    "    plt.subplot(2, 5, i + 1)\n",
    "    #x, y = train_loader.dataset.__getitem__(i)\n",
    "    #x, y = next(iter(train_loader))\n",
    "    #x, label = train_loader.dataset.__getitem__(i)\n",
    "    x = train_x[i] #gauss_noise_tensor(rotate_img(x))\n",
    "    if MNIST_flag:\n",
    "        plt.imshow(x.squeeze().numpy())\n",
    "    else:\n",
    "        plt.imshow(x.permute(1,2,0).numpy())\n",
    "    plt.axis('off')\n",
    "\n",
    "for j in range(5):\n",
    "    plt.subplot(2, 5, j + 6)\n",
    "    #y, label = train_loader.dataset.__getitem__(j)\n",
    "    y = train_y[j]#add_gauss_noise(adjust_contrast(x))\n",
    "    #y = add_gauss_noise(gamma_correct(x))\n",
    "    if MNIST_flag:\n",
    "        plt.imshow(y.squeeze().numpy())\n",
    "    else:\n",
    "        plt.imshow(y.permute(1,2,0).numpy())\n",
    "\n",
    "    plt.axis('off')    "
   ]
  },
  {
   "cell_type": "code",
   "execution_count": 8,
   "metadata": {},
   "outputs": [],
   "source": []
  },
  {
   "cell_type": "code",
   "execution_count": 4,
   "metadata": {},
   "outputs": [
    {
     "name": "stdout",
     "output_type": "stream",
     "text": [
      "running fashion!\n",
      "running run=0...\n"
     ]
    },
    {
     "ename": "RuntimeError",
     "evalue": "CUDA error: invalid device ordinal\nCUDA kernel errors might be asynchronously reported at some other API call, so the stacktrace below might be incorrect.\nFor debugging consider passing CUDA_LAUNCH_BLOCKING=1.\nCompile with `TORCH_USE_CUDA_DSA` to enable device-side assertions.\n",
     "output_type": "error",
     "traceback": [
      "\u001b[0;31m---------------------------------------------------------------------------\u001b[0m",
      "\u001b[0;31mRuntimeError\u001b[0m                              Traceback (most recent call last)",
      "Cell \u001b[0;32mIn[4], line 27\u001b[0m\n\u001b[1;32m     24\u001b[0m results_test \u001b[38;5;241m=\u001b[39m \u001b[38;5;28mdict\u001b[39m()\n\u001b[1;32m     26\u001b[0m \u001b[38;5;28mprint\u001b[39m(\u001b[38;5;124mf\u001b[39m\u001b[38;5;124m\"\u001b[39m\u001b[38;5;124mrunning run=\u001b[39m\u001b[38;5;132;01m{\u001b[39;00mrun\u001b[38;5;132;01m}\u001b[39;00m\u001b[38;5;124m...\u001b[39m\u001b[38;5;124m\"\u001b[39m)\n\u001b[0;32m---> 27\u001b[0m train_x, train_y, val_x, val_y, test_x, test_y \u001b[38;5;241m=\u001b[39m \u001b[43mprepare_data\u001b[49m\u001b[43m(\u001b[49m\u001b[43mtrain_loader\u001b[49m\u001b[43m,\u001b[49m\u001b[43m \u001b[49m\u001b[43mtest_loader\u001b[49m\u001b[43m,\u001b[49m\u001b[43m \u001b[49m\u001b[43mdevice\u001b[49m\u001b[43m,\u001b[49m\u001b[43m \u001b[49m\u001b[43mmask_size\u001b[49m\u001b[43m)\u001b[49m\n\u001b[1;32m     29\u001b[0m \u001b[38;5;28;01mfor\u001b[39;00m size \u001b[38;5;129;01min\u001b[39;00m cluster_sizes:\n\u001b[1;32m     30\u001b[0m     \u001b[38;5;28mprint\u001b[39m(\u001b[38;5;124mf\u001b[39m\u001b[38;5;124m\"\u001b[39m\u001b[38;5;124mCoarsen Sn: \u001b[39m\u001b[38;5;132;01m{\u001b[39;00msize\u001b[38;5;132;01m}\u001b[39;00m\u001b[38;5;124m x \u001b[39m\u001b[38;5;132;01m{\u001b[39;00msize\u001b[38;5;132;01m}\u001b[39;00m\u001b[38;5;124m clusters\u001b[39m\u001b[38;5;124m\"\u001b[39m)\n",
      "File \u001b[0;32m~/Approx_Equivariant_Graph_Nets/image_inpainting/models_coarsen/gnet_coarsen_utils.py:123\u001b[0m, in \u001b[0;36mprepare_data\u001b[0;34m(train_loader, test_loader, device, mask_size)\u001b[0m\n\u001b[1;32m    121\u001b[0m train_y \u001b[38;5;241m=\u001b[39m train_y\u001b[38;5;241m.\u001b[39mflatten(start_dim\u001b[38;5;241m=\u001b[39m\u001b[38;5;241m2\u001b[39m)\u001b[38;5;241m.\u001b[39mpermute(\u001b[38;5;241m0\u001b[39m,\u001b[38;5;241m2\u001b[39m,\u001b[38;5;241m1\u001b[39m) \u001b[38;5;66;03m# (bs, 1, 28, 28) -> (bs, 1, 28*28) -> #(bs, 28*28, 1)\u001b[39;00m\n\u001b[1;32m    122\u001b[0m train_x \u001b[38;5;241m=\u001b[39m train_x\u001b[38;5;241m.\u001b[39mflatten(start_dim\u001b[38;5;241m=\u001b[39m\u001b[38;5;241m2\u001b[39m)\u001b[38;5;241m.\u001b[39mpermute(\u001b[38;5;241m0\u001b[39m,\u001b[38;5;241m2\u001b[39m,\u001b[38;5;241m1\u001b[39m) \u001b[38;5;66;03m# (bs, 1, 28, 28) -> (bs, 1, 28*28) -> #(bs, 28*28, 1)\u001b[39;00m\n\u001b[0;32m--> 123\u001b[0m train_x, train_y \u001b[38;5;241m=\u001b[39m \u001b[43mtrain_x\u001b[49m\u001b[38;5;241;43m.\u001b[39;49m\u001b[43mto\u001b[49m\u001b[43m(\u001b[49m\u001b[43mdevice\u001b[49m\u001b[43m)\u001b[49m, train_y\u001b[38;5;241m.\u001b[39mto(device)\n\u001b[1;32m    125\u001b[0m test_y \u001b[38;5;241m=\u001b[39m test_y\u001b[38;5;241m.\u001b[39mflatten(start_dim\u001b[38;5;241m=\u001b[39m\u001b[38;5;241m2\u001b[39m)\u001b[38;5;241m.\u001b[39mpermute(\u001b[38;5;241m0\u001b[39m,\u001b[38;5;241m2\u001b[39m,\u001b[38;5;241m1\u001b[39m) \u001b[38;5;66;03m# (bs, 1, 28, 28) -> (bs, 1, 28*28) -> #(bs, 28*28, 1)\u001b[39;00m\n\u001b[1;32m    126\u001b[0m test_x \u001b[38;5;241m=\u001b[39m test_x\u001b[38;5;241m.\u001b[39mflatten(start_dim\u001b[38;5;241m=\u001b[39m\u001b[38;5;241m2\u001b[39m)\u001b[38;5;241m.\u001b[39mpermute(\u001b[38;5;241m0\u001b[39m,\u001b[38;5;241m2\u001b[39m,\u001b[38;5;241m1\u001b[39m) \u001b[38;5;66;03m# (bs, 1, 28, 28) -> (bs, 1, 28*28) -> #(bs, 28*28, 1)\u001b[39;00m\n",
      "\u001b[0;31mRuntimeError\u001b[0m: CUDA error: invalid device ordinal\nCUDA kernel errors might be asynchronously reported at some other API call, so the stacktrace below might be incorrect.\nFor debugging consider passing CUDA_LAUNCH_BLOCKING=1.\nCompile with `TORCH_USE_CUDA_DSA` to enable device-side assertions.\n"
     ]
    }
   ],
   "source": [
    "#initialize new model instances\n",
    "gpu_id = 1\n",
    "device = torch.device(f\"cuda:{gpu_id}\" if torch.cuda.is_available() else \"cpu\")\n",
    "in_features = 1\n",
    "out_features = 1\n",
    "lr = 0.01 #for SGD seems 0.1 also works\n",
    "n_epochs = 500\n",
    "total_runs = 3 \n",
    "\n",
    "if MNIST_flag:\n",
    "    print(f\"running MNIST\")\n",
    "    mask_size = 14 #\"gamma\" #\"rotate\" #\"contrast\"\n",
    "\n",
    "else:\n",
    "    print(f\"running fashion!\")\n",
    "    mask_size = 20 #\"gamma\" #\"rotate\" #\"contrast\"\n",
    "\n",
    "cluster_sizes = [1, 2, 4, 7, 14, 28]\n",
    "#save\n",
    "\n",
    "for run in range(total_runs):\n",
    "#for run in range(total_runs-2, total_runs):\n",
    "    results_val = dict()\n",
    "    results_test = dict()\n",
    "\n",
    "    print(f\"running run={run}...\")\n",
    "    train_x, train_y, val_x, val_y, test_x, test_y = prepare_data(train_loader, test_loader, device, mask_size)\n",
    "\n",
    "    for size in cluster_sizes:\n",
    "        print(f\"Coarsen Sn: {size} x {size} clusters\")\n",
    "        torch.manual_seed(run)\n",
    "        cluster_ids = get_cluster_idxs(N,size)\n",
    "        model_coarsen_Sn = Sn_coarsen_layer(cluster_ids, in_features, out_features)\n",
    "        model_coarsen_Sn.to(device)\n",
    "        #train_loss, test_loss\n",
    "        best_val, best_test, model_coarsen_Sn = run_exp(model_coarsen_Sn, train_x, train_y, val_x, val_y, \\\n",
    "                                                            test_x, test_y, device, \\\n",
    "                                                            n_epochs=n_epochs, run=run, lr=lr, mask_size=mask_size)  \n",
    "        name = f\"Sn_coarsen{size}\"\n",
    "        results_val[name] = best_val.item()\n",
    "        results_test[name] = best_test.item()\n",
    "\n",
    "    if MNIST_flag:\n",
    "        save_path = f\"inpainting_results/linear/mnist_{mask_size}_run={run}\"\n",
    "    else:\n",
    "        save_path = f\"inpainting_results/linear/fashion_{mask_size}_run={run}\"\n",
    "    \n",
    "\n",
    "    pickle.dump(results_test, open(f\"{save_path}_test.pkl\", \"wb\"))\n",
    "    pickle.dump(results_val, open(f\"{save_path}_val.pkl\", \"wb\"))\n",
    "\n"
   ]
  },
  {
   "cell_type": "code",
   "execution_count": null,
   "metadata": {},
   "outputs": [],
   "source": []
  }
 ],
 "metadata": {
  "kernelspec": {
   "display_name": "Python 3 (ipykernel)",
   "language": "python",
   "name": "python3"
  },
  "language_info": {
   "codemirror_mode": {
    "name": "ipython",
    "version": 3
   },
   "file_extension": ".py",
   "mimetype": "text/x-python",
   "name": "python",
   "nbconvert_exporter": "python",
   "pygments_lexer": "ipython3",
   "version": "3.10.14"
  },
  "toc": {
   "base_numbering": 1,
   "nav_menu": {},
   "number_sections": true,
   "sideBar": true,
   "skip_h1_title": false,
   "title_cell": "Table of Contents",
   "title_sidebar": "Contents",
   "toc_cell": false,
   "toc_position": {},
   "toc_section_display": true,
   "toc_window_display": false
  },
  "vscode": {
   "interpreter": {
    "hash": "98571cfc7d94226ba5f2228c02d2b9b718b113188057821e54d3222b6f2d774e"
   }
  }
 },
 "nbformat": 4,
 "nbformat_minor": 4
}
