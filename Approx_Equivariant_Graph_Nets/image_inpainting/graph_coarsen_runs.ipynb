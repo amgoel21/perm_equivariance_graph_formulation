{
 "cells": [
  {
   "cell_type": "code",
   "execution_count": 3,
   "metadata": {},
   "outputs": [
    {
     "data": {
      "text/plain": [
       "True"
      ]
     },
     "execution_count": 3,
     "metadata": {},
     "output_type": "execute_result"
    }
   ],
   "source": [
    "import torch\n",
    "import torch.nn as nn\n",
    "import torch.nn.functional as F\n",
    "import torch.optim as optim\n",
    "import torchvision\n",
    "from torchvision import datasets, transforms\n",
    "import torch_geometric\n",
    "from torch.utils.data import Subset, Dataset\n",
    "import matplotlib.pyplot as plt\n",
    "import matplotlib\n",
    "import numpy as np\n",
    "import networkx as nx\n",
    "import pickle\n",
    "from sklearn.model_selection import train_test_split\n",
    "import seaborn as sns\n",
    "import pandas as pd\n",
    "import math\n",
    "from einops import rearrange\n",
    "from models_coarsen.gnet_coarsening import Sn_coarsen_layer, Sn_coarsen_net\n",
    "from models_coarsen.gnet_coarsen_utils import get_clusters, get_cluster_idxs, \\\n",
    "                           get_masked_images, generate_grid_graph, \\\n",
    "                           prepare_data, run_exp\n",
    "# reproducibility\n",
    "np.random.seed(0)\n",
    "torch.cuda.is_available()\n"
   ]
  },
  {
   "cell_type": "markdown",
   "metadata": {},
   "source": [
    "## Set-up\n",
    "- x: image\n",
    "- y: rotated(image) + Gaussian_noise"
   ]
  },
  {
   "cell_type": "code",
   "execution_count": 4,
   "metadata": {},
   "outputs": [
    {
     "name": "stdout",
     "output_type": "stream",
     "text": [
      "training_size=100, test_size=1000\n"
     ]
    }
   ],
   "source": [
    "#Load MNIST\n",
    "MNIST_flag = False #True #False - FashionMNIST\n",
    "subset_flag = True\n",
    "N = 28\n",
    "\n",
    "input_size  = N*N  # images are 28x28 pixels\n",
    "output_size = 10      # there are 10 classes\n",
    "noise_flag = True\n",
    "\n",
    "if MNIST_flag:\n",
    "    transformations = transforms.Compose([\n",
    "                        transforms.Resize((N, N)),\n",
    "                        transforms.ToTensor(),\n",
    "                        transforms.Normalize((0.1307,), (0.3081,)) # transforms.Normalize((0.5, 0.5, 0.5), (0.5, 0.5, 0.5))\n",
    "                    ])  \n",
    "    trainset = torchvision.datasets.MNIST(root='./data', train=True, download=False,transform=transformations)\n",
    "    testset = torchvision.datasets.MNIST(root='./data', train=False, transform=transformations)\n",
    "\n",
    "else: #FashionMNIST\n",
    "    transformations = transforms.Compose([\n",
    "                        transforms.Resize((N, N)),\n",
    "                        transforms.ToTensor(),\n",
    "                        transforms.Normalize((0.5,), (0.5,))\n",
    "                    ])      \n",
    "    trainset = torchvision.datasets.FashionMNIST(root='./data', train=True, download=False,transform=transformations)\n",
    "    testset = torchvision.datasets.FashionMNIST(root='./data', train=False, transform=transformations)\n",
    "\n",
    "\n",
    "\n",
    "##TO-DO: subset\n",
    "if MNIST_flag:\n",
    "    train_idx, validation_idx = train_test_split(np.arange(len(trainset)),\n",
    "                                             train_size=100, #test_size=0.99,\n",
    "                                             random_state=999,\n",
    "                                             shuffle=True,\n",
    "                                             stratify=trainset.targets)\n",
    "else:\n",
    "    train_idx, validation_idx = train_test_split(np.arange(len(trainset)),\n",
    "                                             train_size=100, #600,\n",
    "                                             random_state=999,\n",
    "                                             shuffle=True,\n",
    "                                             stratify=trainset.targets)\n",
    "# Subset dataset for train and val\n",
    "train_subset = Subset(trainset, train_idx)\n",
    "validation_dataset = Subset(trainset, validation_idx) #NOT-USE\n",
    "\n",
    "\n",
    "if subset_flag:\n",
    "  train_loader = torch.utils.data.DataLoader(train_subset, batch_size=len(train_subset), shuffle=False)\n",
    "else:\n",
    "  train_loader = torch.utils.data.DataLoader(trainset, batch_size=128, shuffle=False)\n",
    "\n",
    "test_idx, test_rest_idx = train_test_split(np.arange(len(testset)),\n",
    "                                             test_size=0.9,\n",
    "                                             random_state=999,\n",
    "                                             shuffle=True,\n",
    "                                             stratify=testset.targets)  \n",
    "test_subset = Subset(testset, test_idx)\n",
    "test_loader = torch.utils.data.DataLoader(test_subset, batch_size=len(test_subset), shuffle=False)\n",
    "print(f\"training_size={len(train_subset)}, test_size={len(test_subset)}\")\n"
   ]
  },
  {
   "cell_type": "code",
   "execution_count": 5,
   "metadata": {},
   "outputs": [
    {
     "data": {
      "image/png": "[encoded data removed]",
      "text/plain": [
       "<Figure size 1600x600 with 10 Axes>"
      ]
     },
     "metadata": {},
     "output_type": "display_data"
    }
   ],
   "source": [
    "train_y, _ = next(iter(train_loader))\n",
    "train_x = get_masked_images(train_y, mask_size=14 if MNIST_flag else 18)\n",
    "plt.figure(figsize=(16, 6))\n",
    "for i in range(5):\n",
    "    plt.subplot(2, 5, i + 1)\n",
    "    #x, y = train_loader.dataset.__getitem__(i)\n",
    "    #x, y = next(iter(train_loader))\n",
    "    #x, label = train_loader.dataset.__getitem__(i)\n",
    "    x = train_x[i] #gauss_noise_tensor(rotate_img(x))\n",
    "    if MNIST_flag:\n",
    "        plt.imshow(x.squeeze().numpy())\n",
    "    else:\n",
    "        plt.imshow(x.permute(1,2,0).numpy())\n",
    "    plt.axis('off')\n",
    "\n",
    "for j in range(5):\n",
    "    plt.subplot(2, 5, j + 6)\n",
    "    #y, label = train_loader.dataset.__getitem__(j)\n",
    "    y = train_y[j]#add_gauss_noise(adjust_contrast(x))\n",
    "    #y = add_gauss_noise(gamma_correct(x))\n",
    "    if MNIST_flag:\n",
    "        plt.imshow(y.squeeze().numpy())\n",
    "    else:\n",
    "        plt.imshow(y.permute(1,2,0).numpy())\n",
    "\n",
    "    plt.axis('off')    "
   ]
  },
  {
   "cell_type": "code",
   "execution_count": 6,
   "metadata": {},
   "outputs": [
    {
     "name": "stdout",
     "output_type": "stream",
     "text": [
      "running fashion!\n",
      "running run=0...\n",
      "Coarsen Sn: 1 x 1 clusters\n",
      "Warning: this asserts patched-clustering for regular grid images!\n",
      "best_val=0.2577, bes_test=0.2378\n",
      "Coarsen Sn: 2 x 2 clusters\n",
      "Warning: this asserts patched-clustering for regular grid images!\n",
      "best_val=0.2306, bes_test=0.2226\n",
      "Coarsen Sn: 4 x 4 clusters\n",
      "Warning: this asserts patched-clustering for regular grid images!\n",
      "best_val=0.1719, bes_test=0.1707\n",
      "Coarsen Sn: 7 x 7 clusters\n",
      "Warning: this asserts patched-clustering for regular grid images!\n",
      "best_val=0.1464, bes_test=0.1502\n",
      "Coarsen Sn: 14 x 14 clusters\n",
      "Warning: this asserts patched-clustering for regular grid images!\n",
      "best_val=0.1360, bes_test=0.1467\n",
      "Coarsen Sn: 28 x 28 clusters\n",
      "Warning: this asserts patched-clustering for regular grid images!\n",
      "best_val=0.1437, bes_test=0.1479\n",
      "running run=1...\n",
      "Coarsen Sn: 1 x 1 clusters\n",
      "Warning: this asserts patched-clustering for regular grid images!\n",
      "best_val=0.2746, bes_test=0.2317\n",
      "Coarsen Sn: 2 x 2 clusters\n",
      "Warning: this asserts patched-clustering for regular grid images!\n",
      "best_val=0.2420, bes_test=0.2188\n",
      "Coarsen Sn: 4 x 4 clusters\n",
      "Warning: this asserts patched-clustering for regular grid images!\n",
      "best_val=0.1915, bes_test=0.1741\n",
      "Coarsen Sn: 7 x 7 clusters\n",
      "Warning: this asserts patched-clustering for regular grid images!\n",
      "best_val=0.1771, bes_test=0.1527\n",
      "Coarsen Sn: 14 x 14 clusters\n",
      "Warning: this asserts patched-clustering for regular grid images!\n",
      "best_val=0.1601, bes_test=0.1451\n",
      "Coarsen Sn: 28 x 28 clusters\n",
      "Warning: this asserts patched-clustering for regular grid images!\n",
      "best_val=0.1657, bes_test=0.1475\n",
      "running run=2...\n",
      "Coarsen Sn: 1 x 1 clusters\n",
      "Warning: this asserts patched-clustering for regular grid images!\n",
      "best_val=0.2924, bes_test=0.2371\n",
      "Coarsen Sn: 2 x 2 clusters\n",
      "Warning: this asserts patched-clustering for regular grid images!\n",
      "best_val=0.2763, bes_test=0.2166\n",
      "Coarsen Sn: 4 x 4 clusters\n",
      "Warning: this asserts patched-clustering for regular grid images!\n",
      "best_val=0.2144, bes_test=0.1697\n",
      "Coarsen Sn: 7 x 7 clusters\n",
      "Warning: this asserts patched-clustering for regular grid images!\n",
      "best_val=0.1741, bes_test=0.1468\n",
      "Coarsen Sn: 14 x 14 clusters\n",
      "Warning: this asserts patched-clustering for regular grid images!\n",
      "best_val=0.1821, bes_test=0.1461\n",
      "Coarsen Sn: 28 x 28 clusters\n",
      "Warning: this asserts patched-clustering for regular grid images!\n",
      "best_val=0.1789, bes_test=0.1440\n"
     ]
    }
   ],
   "source": [
    "#initialize new model instances\n",
    "gpu_id = 1\n",
    "# device = torch.device(f\"cuda:{gpu_id}\" if torch.cuda.is_available() else \"cpu\")\n",
    "device = device = torch.device(\"cuda\")\n",
    "in_features = 1\n",
    "out_features = 1\n",
    "\n",
    "total_runs = 3 #1\n",
    "hid_dim = 28\n",
    "n_epochs = 500\n",
    "lr = 0.01 #for SGD seems 0.1 also works\n",
    "\n",
    "if MNIST_flag:\n",
    "    print(f\"running MNIST\")\n",
    "    mask_size = 14 #\"gamma\" #\"rotate\" #\"contrast\"\n",
    "\n",
    "else:\n",
    "    print(f\"running fashion!\")\n",
    "    mask_size = 20 #\"gamma\" #\"rotate\" #\"contrast\"\n",
    "\n",
    "cluster_sizes = [1, 2, 4, 7, 14, 28]\n",
    "#save\n",
    "\n",
    "for run in range(total_runs):\n",
    "#for run in range(total_runs-2, total_runs):\n",
    "    results_val = dict()\n",
    "    results_test = dict()\n",
    "\n",
    "    print(f\"running run={run}...\")\n",
    "    train_x, train_y, val_x, val_y, test_x, test_y = prepare_data(train_loader, test_loader, device, mask_size)\n",
    "\n",
    "    for size in cluster_sizes:\n",
    "        print(f\"Coarsen Sn: {size} x {size} clusters\")\n",
    "        torch.manual_seed(run)\n",
    "        cluster_ids = get_cluster_idxs(N,size)\n",
    "        model_coarsen_Sn = Sn_coarsen_net(cluster_ids, in_features, out_features, hid_dim=hid_dim)\n",
    "        model_coarsen_Sn.to(device)\n",
    "        #train_loss, test_loss\n",
    "        best_val, best_test, model_coarsen_Sn = run_exp(model_coarsen_Sn, train_x, train_y, val_x, val_y, \\\n",
    "                                                            test_x, test_y, device, \\\n",
    "                                                            n_epochs=n_epochs, run=run, lr=lr, mask_size=mask_size)  \n",
    "        name = f\"Sn_coarsen{size}\"\n",
    "        results_val[name] = best_val.item()\n",
    "        results_test[name] = best_test.item()\n",
    "\n",
    "    if MNIST_flag:\n",
    "        save_path = f\"inpainting_results/val_test/mnist_{mask_size}_run={run}\"\n",
    "    else:\n",
    "        save_path = f\"inpainting_results/val_test/fashion_{mask_size}_run={run}\"\n",
    "    \n",
    "\n",
    "    pickle.dump(results_test, open(f\"{save_path}_test.pkl\", \"wb\"))\n",
    "    pickle.dump(results_val, open(f\"{save_path}_val.pkl\", \"wb\"))\n",
    "\n"
   ]
  },
  {
   "cell_type": "code",
   "execution_count": 7,
   "metadata": {},
   "outputs": [],
   "source": [
    "def show_results(results_val, results_test):\n",
    "\n",
    "    D_mean = {'name':[], 'val': [], 'test':[]}\n",
    "    D_std = {'name':[], 'val': [], 'test':[]}\n",
    "    for key in results_test[0].keys():\n",
    "        D_mean['name'].append(key)\n",
    "        D_std['name'].append(key)\n",
    "\n",
    "        val_all = np.array([results_val[run][key] for run in range(total_runs)])\n",
    "        mean = val_all.mean(axis=0) * 100\n",
    "        D_mean['val'].append(mean)\n",
    "        std = val_all.std(axis=0) * 100\n",
    "        D_std['val'].append(std)\n",
    "\n",
    "        val_all = np.array([results_test[run][key] for run in range(total_runs)])\n",
    "        mean = val_all.mean(axis=0) * 100\n",
    "        D_mean['test'].append(mean)\n",
    "        std = val_all.std(axis=0) * 100\n",
    "        D_std['test'].append(std)\n",
    "        #print(f\"Test MSE, {key}: mean={100*mean:.2f}, std={100*std:.2f}\")\n",
    "\n",
    "    df_mean = pd.DataFrame(data=D_mean).set_index(\"name\").T\n",
    "    df_std = pd.DataFrame(data=D_std).set_index(\"name\").T\n",
    "\n",
    "    return df_mean, df_std\n"
   ]
  },
  {
   "cell_type": "code",
   "execution_count": 8,
   "metadata": {},
   "outputs": [],
   "source": [
    "total_runs = 3\n",
    "MNIST_results_val = [pickle.load(open(f\"inpainting_results/val_test/mnist_14_run={run}_val.pkl\", \"rb\")) for run in range(total_runs)]\n",
    "MNIST_results_test = [pickle.load(open(f\"inpainting_results/val_test/mnist_14_run={run}_test.pkl\", \"rb\")) for run in range(total_runs)]\n",
    "\n",
    "fashion_results_val = [pickle.load(open(f\"inpainting_results/val_test/fashion_20_run={run}_val.pkl\", \"rb\")) for run in range(total_runs)]\n",
    "fashion_results_test = [pickle.load(open(f\"inpainting_results/val_test/fashion_20_run={run}_test.pkl\", \"rb\")) for run in range(total_runs)]\n",
    "\n",
    "MNIST_linear_val = [pickle.load(open(f\"inpainting_results/linear/mnist_14_run={run}_val.pkl\", \"rb\")) for run in range(total_runs)]\n",
    "MNIST_linear_test = [pickle.load(open(f\"inpainting_results/linear/mnist_14_run={run}_test.pkl\", \"rb\")) for run in range(total_runs)]\n",
    "\n",
    "fashion_linear_val = [pickle.load(open(f\"inpainting_results/linear/fashion_20_run={run}_val.pkl\", \"rb\")) for run in range(total_runs)]\n",
    "fashion_linear_test = [pickle.load(open(f\"inpainting_results/linear/fashion_20_run={run}_test.pkl\", \"rb\")) for run in range(total_runs)]\n"
   ]
  },
  {
   "cell_type": "code",
   "execution_count": 9,
   "metadata": {},
   "outputs": [],
   "source": [
    "df_mean, df_std = show_results(MNIST_results_val, MNIST_results_test)\n",
    "fashion_df_mean, fashion_df_std = show_results(fashion_results_val, fashion_results_test)\n",
    "linear_mean, linear_std = show_results(MNIST_linear_val, MNIST_linear_test)\n",
    "fashion_linear_mean, fashion_linear_std = show_results(fashion_linear_val, fashion_linear_test)"
   ]
  },
  {
   "cell_type": "code",
   "execution_count": 10,
   "metadata": {},
   "outputs": [
    {
     "data": {
      "text/html": [
       "<div>\n",
       "<style scoped>\n",
       "    .dataframe tbody tr th:only-of-type {\n",
       "        vertical-align: middle;\n",
       "    }\n",
       "\n",
       "    .dataframe tbody tr th {\n",
       "        vertical-align: top;\n",
       "    }\n",
       "\n",
       "    .dataframe thead th {\n",
       "        text-align: right;\n",
       "    }\n",
       "</style>\n",
       "<table border=\"1\" class=\"dataframe\">\n",
       "  <thead>\n",
       "    <tr style=\"text-align: right;\">\n",
       "      <th>name</th>\n",
       "      <th>Sn_coarsen1</th>\n",
       "      <th>Sn_coarsen2</th>\n",
       "      <th>Sn_coarsen4</th>\n",
       "      <th>Sn_coarsen7</th>\n",
       "      <th>Sn_coarsen14</th>\n",
       "      <th>Sn_coarsen28</th>\n",
       "    </tr>\n",
       "  </thead>\n",
       "  <tbody>\n",
       "    <tr>\n",
       "      <th>val</th>\n",
       "      <td>$38.97 \\pm 1.97$ &amp;</td>\n",
       "      <td>$37.92 \\pm 2.1$ &amp;</td>\n",
       "      <td>$35.19 \\pm 1.58$ &amp;</td>\n",
       "      <td>$34.24 \\pm 2.2$ &amp;</td>\n",
       "      <td>$34.23 \\pm 1.74$ &amp;</td>\n",
       "      <td>$34.51 \\pm 2.01$ &amp;</td>\n",
       "    </tr>\n",
       "    <tr>\n",
       "      <th>test</th>\n",
       "      <td>$41.56 \\pm 0.16$ &amp;</td>\n",
       "      <td>$40.53 \\pm 0.26$ &amp;</td>\n",
       "      <td>$36.06 \\pm 0.24$ &amp;</td>\n",
       "      <td>$34.68 \\pm 0.5$ &amp;</td>\n",
       "      <td>$33.67 \\pm 0.07$ &amp;</td>\n",
       "      <td>$33.92 \\pm 0.04$ &amp;</td>\n",
       "    </tr>\n",
       "  </tbody>\n",
       "</table>\n",
       "</div>"
      ],
      "text/plain": [
       "name         Sn_coarsen1         Sn_coarsen2         Sn_coarsen4  \\\n",
       "val   $38.97 \\pm 1.97$ &   $37.92 \\pm 2.1$ &  $35.19 \\pm 1.58$ &   \n",
       "test  $41.56 \\pm 0.16$ &  $40.53 \\pm 0.26$ &  $36.06 \\pm 0.24$ &   \n",
       "\n",
       "name        Sn_coarsen7        Sn_coarsen14        Sn_coarsen28  \n",
       "val   $34.24 \\pm 2.2$ &  $34.23 \\pm 1.74$ &  $34.51 \\pm 2.01$ &  \n",
       "test  $34.68 \\pm 0.5$ &  $33.67 \\pm 0.07$ &  $33.92 \\pm 0.04$ &  "
      ]
     },
     "execution_count": 10,
     "metadata": {},
     "output_type": "execute_result"
    }
   ],
   "source": [
    "df_merge = df_mean.apply(lambda col: \"$\" + col.round(2).astype(str)) + \" \\pm \" + df_std.apply(lambda col: col.round(2).astype(str)) + \"$ &\"\n",
    "df_merge"
   ]
  },
  {
   "cell_type": "code",
   "execution_count": 11,
   "metadata": {},
   "outputs": [
    {
     "data": {
      "text/html": [
       "<div>\n",
       "<style scoped>\n",
       "    .dataframe tbody tr th:only-of-type {\n",
       "        vertical-align: middle;\n",
       "    }\n",
       "\n",
       "    .dataframe tbody tr th {\n",
       "        vertical-align: top;\n",
       "    }\n",
       "\n",
       "    .dataframe thead th {\n",
       "        text-align: right;\n",
       "    }\n",
       "</style>\n",
       "<table border=\"1\" class=\"dataframe\">\n",
       "  <thead>\n",
       "    <tr style=\"text-align: right;\">\n",
       "      <th>name</th>\n",
       "      <th>Sn_coarsen1</th>\n",
       "      <th>Sn_coarsen2</th>\n",
       "      <th>Sn_coarsen4</th>\n",
       "      <th>Sn_coarsen7</th>\n",
       "      <th>Sn_coarsen14</th>\n",
       "      <th>Sn_coarsen28</th>\n",
       "    </tr>\n",
       "  </thead>\n",
       "  <tbody>\n",
       "    <tr>\n",
       "      <th>val</th>\n",
       "      <td>$27.49 \\pm 1.42$ &amp;</td>\n",
       "      <td>$24.96 \\pm 1.94$ &amp;</td>\n",
       "      <td>$19.26 \\pm 1.74$ &amp;</td>\n",
       "      <td>$16.59 \\pm 1.38$ &amp;</td>\n",
       "      <td>$15.94 \\pm 1.88$ &amp;</td>\n",
       "      <td>$16.28 \\pm 1.45$ &amp;</td>\n",
       "    </tr>\n",
       "    <tr>\n",
       "      <th>test</th>\n",
       "      <td>$23.55 \\pm 0.27$ &amp;</td>\n",
       "      <td>$21.93 \\pm 0.25$ &amp;</td>\n",
       "      <td>$17.15 \\pm 0.19$ &amp;</td>\n",
       "      <td>$14.99 \\pm 0.24$ &amp;</td>\n",
       "      <td>$14.6 \\pm 0.07$ &amp;</td>\n",
       "      <td>$14.65 \\pm 0.18$ &amp;</td>\n",
       "    </tr>\n",
       "  </tbody>\n",
       "</table>\n",
       "</div>"
      ],
      "text/plain": [
       "name         Sn_coarsen1         Sn_coarsen2         Sn_coarsen4  \\\n",
       "val   $27.49 \\pm 1.42$ &  $24.96 \\pm 1.94$ &  $19.26 \\pm 1.74$ &   \n",
       "test  $23.55 \\pm 0.27$ &  $21.93 \\pm 0.25$ &  $17.15 \\pm 0.19$ &   \n",
       "\n",
       "name         Sn_coarsen7        Sn_coarsen14        Sn_coarsen28  \n",
       "val   $16.59 \\pm 1.38$ &  $15.94 \\pm 1.88$ &  $16.28 \\pm 1.45$ &  \n",
       "test  $14.99 \\pm 0.24$ &   $14.6 \\pm 0.07$ &  $14.65 \\pm 0.18$ &  "
      ]
     },
     "execution_count": 11,
     "metadata": {},
     "output_type": "execute_result"
    }
   ],
   "source": [
    "df_merge = fashion_df_mean.apply(lambda col: \"$\" + col.round(2).astype(str)) + \" \\pm \" + fashion_df_std.apply(lambda col: col.round(2).astype(str)) + \"$ &\"\n",
    "df_merge"
   ]
  },
  {
   "cell_type": "code",
   "execution_count": 12,
   "metadata": {},
   "outputs": [
    {
     "name": "stderr",
     "output_type": "stream",
     "text": [
      "/state/partition1/slurm_tmp/27201328.0.0/ipykernel_624535/54245853.py:24: UserWarning: set_ticklabels() should only be used with a fixed number of ticks, i.e. after set_ticks() or using a FixedLocator.\n",
      "  ax.set_xticklabels(labels)\n",
      "/state/partition1/slurm_tmp/27201328.0.0/ipykernel_624535/54245853.py:24: UserWarning: set_ticklabels() should only be used with a fixed number of ticks, i.e. after set_ticks() or using a FixedLocator.\n",
      "  ax.set_xticklabels(labels)\n"
     ]
    },
    {
     "data": {
      "image/png": "[encoded data removed]",
      "text/plain": [
       "<Figure size 1440x360 with 2 Axes>"
      ]
     },
     "metadata": {},
     "output_type": "display_data"
    }
   ],
   "source": [
    "import matplotlib.ticker as mticker\n",
    "\n",
    "plot_keys = [r\"$S_n$\",\n",
    "            r\"$(S_{{n/4}})^{4}$\", \n",
    "            r\"$(S_{{n/16}})^{16}$\",\n",
    "            r\"$(S_{{n/49}})^{49}$\",\n",
    "            r\"$(S_{{n/196}})^{196}$\",\n",
    "             r\"$(S_{{n/784}})^{784}$\"]\n",
    "fig, axs = plt.subplots(ncols=2, figsize=(12,3), dpi=120)\n",
    "\n",
    "axs[0].plot(df_mean.iloc[1]*0.01, marker=\"o\", markersize=\"10\", label=r\"2-layer $\\mathcal{G}$-Net\")\n",
    "# axs[0].fill_between(np.arange(6), df_mean.iloc[1]*0.01-df_std.iloc[1]*0.01, \\\n",
    "#                     df_mean.iloc[1]*0.01+ df_std.iloc[1]*0.01, alpha=0.3)\n",
    "\n",
    "axs[0].plot(linear_mean.iloc[1]*0.01,marker=\"o\", markersize=\"10\", linestyle=\":\", label=\"1-layer\")\n",
    "axs[0].set_title(\"MNIST\")\n",
    "\n",
    "axs[1].plot(fashion_df_mean.iloc[1]*0.01, marker=\"o\", markersize=\"10\",label=r\"2-layer $\\mathcal{G}$-Net\")\n",
    "axs[1].plot(fashion_linear_mean.iloc[1]*0.01, marker=\"o\", linestyle=\":\", markersize=\"10\", label=\"1-layer\")\n",
    "axs[1].set_title(\"FashionMNIST\")\n",
    "for ax in axs:\n",
    "    labels = [item.get_text() for item in ax.get_xticklabels()]\n",
    "    labels = plot_keys\n",
    "    ax.set_xticklabels(labels)\n",
    "    ax.legend()\n",
    "axs[0].set_ylabel(\"Test MSE\")\n",
    "plt.show()"
   ]
  },
  {
   "cell_type": "code",
   "execution_count": null,
   "metadata": {},
   "outputs": [],
   "source": []
  }
 ],
 "metadata": {
  "kernelspec": {
   "display_name": "Python 3 (ipykernel)",
   "language": "python",
   "name": "python3"
  },
  "language_info": {
   "codemirror_mode": {
    "name": "ipython",
    "version": 3
   },
   "file_extension": ".py",
   "mimetype": "text/x-python",
   "name": "python",
   "nbconvert_exporter": "python",
   "pygments_lexer": "ipython3",
   "version": "3.10.14"
  },
  "toc": {
   "base_numbering": 1,
   "nav_menu": {},
   "number_sections": true,
   "sideBar": true,
   "skip_h1_title": false,
   "title_cell": "Table of Contents",
   "title_sidebar": "Contents",
   "toc_cell": false,
   "toc_position": {},
   "toc_section_display": true,
   "toc_window_display": false
  },
  "vscode": {
   "interpreter": {
    "hash": "98571cfc7d94226ba5f2228c02d2b9b718b113188057821e54d3222b6f2d774e"
   }
  }
 },
 "nbformat": 4,
 "nbformat_minor": 4
}
